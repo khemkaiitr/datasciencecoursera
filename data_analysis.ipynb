{
 "cells": [
  {
   "cell_type": "code",
   "execution_count": 75,
   "metadata": {
    "collapsed": true
   },
   "outputs": [],
   "source": [
    "import os\n",
    "import pandas as pd\n",
    "import matplotlib.pyplot as plt\n",
    "from scipy.stats import ttest_ind"
   ]
  },
  {
   "cell_type": "code",
   "execution_count": 6,
   "metadata": {},
   "outputs": [
    {
     "data": {
      "text/html": [
       "<div>\n",
       "<style scoped>\n",
       "    .dataframe tbody tr th:only-of-type {\n",
       "        vertical-align: middle;\n",
       "    }\n",
       "\n",
       "    .dataframe tbody tr th {\n",
       "        vertical-align: top;\n",
       "    }\n",
       "\n",
       "    .dataframe thead th {\n",
       "        text-align: right;\n",
       "    }\n",
       "</style>\n",
       "<table border=\"1\" class=\"dataframe\">\n",
       "  <thead>\n",
       "    <tr style=\"text-align: right;\">\n",
       "      <th></th>\n",
       "      <th>Customer</th>\n",
       "      <th>State</th>\n",
       "      <th>Customer Lifetime Value</th>\n",
       "      <th>Response</th>\n",
       "      <th>Coverage</th>\n",
       "      <th>Education</th>\n",
       "      <th>Effective To Date</th>\n",
       "      <th>EmploymentStatus</th>\n",
       "      <th>Gender</th>\n",
       "      <th>Income</th>\n",
       "      <th>...</th>\n",
       "      <th>Months Since Policy Inception</th>\n",
       "      <th>Number of Open Complaints</th>\n",
       "      <th>Number of Policies</th>\n",
       "      <th>Policy Type</th>\n",
       "      <th>Policy</th>\n",
       "      <th>Renew Offer Type</th>\n",
       "      <th>Sales Channel</th>\n",
       "      <th>Total Claim Amount</th>\n",
       "      <th>Vehicle Class</th>\n",
       "      <th>Vehicle Size</th>\n",
       "    </tr>\n",
       "  </thead>\n",
       "  <tbody>\n",
       "    <tr>\n",
       "      <th>0</th>\n",
       "      <td>BU79786</td>\n",
       "      <td>Washington</td>\n",
       "      <td>2763.519279</td>\n",
       "      <td>No</td>\n",
       "      <td>Basic</td>\n",
       "      <td>Bachelor</td>\n",
       "      <td>2/24/11</td>\n",
       "      <td>Employed</td>\n",
       "      <td>F</td>\n",
       "      <td>56274</td>\n",
       "      <td>...</td>\n",
       "      <td>5</td>\n",
       "      <td>0</td>\n",
       "      <td>1</td>\n",
       "      <td>Corporate Auto</td>\n",
       "      <td>Corporate L3</td>\n",
       "      <td>Offer1</td>\n",
       "      <td>Agent</td>\n",
       "      <td>384.811147</td>\n",
       "      <td>Two-Door Car</td>\n",
       "      <td>Medsize</td>\n",
       "    </tr>\n",
       "    <tr>\n",
       "      <th>1</th>\n",
       "      <td>QZ44356</td>\n",
       "      <td>Arizona</td>\n",
       "      <td>6979.535903</td>\n",
       "      <td>No</td>\n",
       "      <td>Extended</td>\n",
       "      <td>Bachelor</td>\n",
       "      <td>1/31/11</td>\n",
       "      <td>Unemployed</td>\n",
       "      <td>F</td>\n",
       "      <td>0</td>\n",
       "      <td>...</td>\n",
       "      <td>42</td>\n",
       "      <td>0</td>\n",
       "      <td>8</td>\n",
       "      <td>Personal Auto</td>\n",
       "      <td>Personal L3</td>\n",
       "      <td>Offer3</td>\n",
       "      <td>Agent</td>\n",
       "      <td>1131.464935</td>\n",
       "      <td>Four-Door Car</td>\n",
       "      <td>Medsize</td>\n",
       "    </tr>\n",
       "    <tr>\n",
       "      <th>2</th>\n",
       "      <td>AI49188</td>\n",
       "      <td>Nevada</td>\n",
       "      <td>12887.431650</td>\n",
       "      <td>No</td>\n",
       "      <td>Premium</td>\n",
       "      <td>Bachelor</td>\n",
       "      <td>2/19/11</td>\n",
       "      <td>Employed</td>\n",
       "      <td>F</td>\n",
       "      <td>48767</td>\n",
       "      <td>...</td>\n",
       "      <td>38</td>\n",
       "      <td>0</td>\n",
       "      <td>2</td>\n",
       "      <td>Personal Auto</td>\n",
       "      <td>Personal L3</td>\n",
       "      <td>Offer1</td>\n",
       "      <td>Agent</td>\n",
       "      <td>566.472247</td>\n",
       "      <td>Two-Door Car</td>\n",
       "      <td>Medsize</td>\n",
       "    </tr>\n",
       "    <tr>\n",
       "      <th>3</th>\n",
       "      <td>WW63253</td>\n",
       "      <td>California</td>\n",
       "      <td>7645.861827</td>\n",
       "      <td>No</td>\n",
       "      <td>Basic</td>\n",
       "      <td>Bachelor</td>\n",
       "      <td>1/20/11</td>\n",
       "      <td>Unemployed</td>\n",
       "      <td>M</td>\n",
       "      <td>0</td>\n",
       "      <td>...</td>\n",
       "      <td>65</td>\n",
       "      <td>0</td>\n",
       "      <td>7</td>\n",
       "      <td>Corporate Auto</td>\n",
       "      <td>Corporate L2</td>\n",
       "      <td>Offer1</td>\n",
       "      <td>Call Center</td>\n",
       "      <td>529.881344</td>\n",
       "      <td>SUV</td>\n",
       "      <td>Medsize</td>\n",
       "    </tr>\n",
       "    <tr>\n",
       "      <th>4</th>\n",
       "      <td>HB64268</td>\n",
       "      <td>Washington</td>\n",
       "      <td>2813.692575</td>\n",
       "      <td>No</td>\n",
       "      <td>Basic</td>\n",
       "      <td>Bachelor</td>\n",
       "      <td>2/3/11</td>\n",
       "      <td>Employed</td>\n",
       "      <td>M</td>\n",
       "      <td>43836</td>\n",
       "      <td>...</td>\n",
       "      <td>44</td>\n",
       "      <td>0</td>\n",
       "      <td>1</td>\n",
       "      <td>Personal Auto</td>\n",
       "      <td>Personal L1</td>\n",
       "      <td>Offer1</td>\n",
       "      <td>Agent</td>\n",
       "      <td>138.130879</td>\n",
       "      <td>Four-Door Car</td>\n",
       "      <td>Medsize</td>\n",
       "    </tr>\n",
       "  </tbody>\n",
       "</table>\n",
       "<p>5 rows × 24 columns</p>\n",
       "</div>"
      ],
      "text/plain": [
       "  Customer       State  Customer Lifetime Value Response  Coverage Education  \\\n",
       "0  BU79786  Washington              2763.519279       No     Basic  Bachelor   \n",
       "1  QZ44356     Arizona              6979.535903       No  Extended  Bachelor   \n",
       "2  AI49188      Nevada             12887.431650       No   Premium  Bachelor   \n",
       "3  WW63253  California              7645.861827       No     Basic  Bachelor   \n",
       "4  HB64268  Washington              2813.692575       No     Basic  Bachelor   \n",
       "\n",
       "  Effective To Date EmploymentStatus Gender  Income     ...       \\\n",
       "0           2/24/11         Employed      F   56274     ...        \n",
       "1           1/31/11       Unemployed      F       0     ...        \n",
       "2           2/19/11         Employed      F   48767     ...        \n",
       "3           1/20/11       Unemployed      M       0     ...        \n",
       "4            2/3/11         Employed      M   43836     ...        \n",
       "\n",
       "  Months Since Policy Inception Number of Open Complaints  Number of Policies  \\\n",
       "0                             5                         0                   1   \n",
       "1                            42                         0                   8   \n",
       "2                            38                         0                   2   \n",
       "3                            65                         0                   7   \n",
       "4                            44                         0                   1   \n",
       "\n",
       "      Policy Type        Policy  Renew Offer Type  Sales Channel  \\\n",
       "0  Corporate Auto  Corporate L3            Offer1          Agent   \n",
       "1   Personal Auto   Personal L3            Offer3          Agent   \n",
       "2   Personal Auto   Personal L3            Offer1          Agent   \n",
       "3  Corporate Auto  Corporate L2            Offer1    Call Center   \n",
       "4   Personal Auto   Personal L1            Offer1          Agent   \n",
       "\n",
       "  Total Claim Amount  Vehicle Class Vehicle Size  \n",
       "0         384.811147   Two-Door Car      Medsize  \n",
       "1        1131.464935  Four-Door Car      Medsize  \n",
       "2         566.472247   Two-Door Car      Medsize  \n",
       "3         529.881344            SUV      Medsize  \n",
       "4         138.130879  Four-Door Car      Medsize  \n",
       "\n",
       "[5 rows x 24 columns]"
      ]
     },
     "execution_count": 6,
     "metadata": {},
     "output_type": "execute_result"
    }
   ],
   "source": [
    "df = pd.read_csv('dataset.csv')\n",
    "df.head()"
   ]
  },
  {
   "cell_type": "code",
   "execution_count": 20,
   "metadata": {},
   "outputs": [
    {
     "name": "stdout",
     "output_type": "stream",
     "text": [
      "shape of the dataset is (9134, 24)\n",
      "No of missing values in each column: \n"
     ]
    },
    {
     "data": {
      "text/plain": [
       "Customer                         0\n",
       "State                            0\n",
       "Customer Lifetime Value          0\n",
       "Response                         0\n",
       "Coverage                         0\n",
       "Education                        0\n",
       "Effective To Date                0\n",
       "EmploymentStatus                 0\n",
       "Gender                           0\n",
       "Income                           0\n",
       "Location Code                    0\n",
       "Marital Status                   0\n",
       "Monthly Premium Auto             0\n",
       "Months Since Last Claim          0\n",
       "Months Since Policy Inception    0\n",
       "Number of Open Complaints        0\n",
       "Number of Policies               0\n",
       "Policy Type                      0\n",
       "Policy                           0\n",
       "Renew Offer Type                 0\n",
       "Sales Channel                    0\n",
       "Total Claim Amount               0\n",
       "Vehicle Class                    0\n",
       "Vehicle Size                     0\n",
       "dtype: int64"
      ]
     },
     "execution_count": 20,
     "metadata": {},
     "output_type": "execute_result"
    }
   ],
   "source": [
    "print('shape of the dataset is', df.shape)\n",
    "print('No of missing values in each column: ')\n",
    "df.isnull().sum(axis=0)"
   ]
  },
  {
   "cell_type": "code",
   "execution_count": 22,
   "metadata": {
    "collapsed": true
   },
   "outputs": [],
   "source": [
    "# Convert 'Effective to Date' in datetime\n",
    "df['Effective To Date'] = pd.to_datetime(df['Effective To Date'])"
   ]
  },
  {
   "cell_type": "code",
   "execution_count": 41,
   "metadata": {},
   "outputs": [
    {
     "data": {
      "image/png": "[encoded data removed]",
      "text/plain": [
       "<Figure size 432x288 with 1 Axes>"
      ]
     },
     "metadata": {},
     "output_type": "display_data"
    }
   ],
   "source": [
    "# Some descriptive analysis on the dataset\n",
    "df['Customer Lifetime Value'].hist(bins = 20)\n",
    "plt.xlabel('Customer life time value')\n",
    "plt.ylabel('Frequency')\n",
    "plt.show()"
   ]
  },
  {
   "cell_type": "markdown",
   "metadata": {},
   "source": [
    "From the graph it is evident is customer lifetime value is positively skewed with large no of customers of low value and a small no of customers with high customer lifetime value. "
   ]
  },
  {
   "cell_type": "code",
   "execution_count": 50,
   "metadata": {},
   "outputs": [
    {
     "name": "stdout",
     "output_type": "stream",
     "text": [
      "count     9134.000000\n",
      "mean      8004.940475\n",
      "std       6870.967608\n",
      "min       1898.007675\n",
      "25%       3994.251794\n",
      "50%       5780.182197\n",
      "75%       8962.167041\n",
      "max      83325.381190\n",
      "Name: Customer Lifetime Value, dtype: float64\n",
      "skewness of customer life time value 3.032280259929985\n",
      "Kurtosis of customer life time value 13.823533425442404\n"
     ]
    }
   ],
   "source": [
    "print(df['Customer Lifetime Value'].describe())\n",
    "print('skewness of customer life time value %s' %df['Customer Lifetime Value'].skew())\n",
    "print('Kurtosis of customer life time value %s' %df['Customer Lifetime Value'].kurtosis())"
   ]
  },
  {
   "cell_type": "markdown",
   "metadata": {},
   "source": [
    "These analysis confirm the skewness of the dataset as well. The mean of CLV is 8005$ and standard deviation is around 6871$"
   ]
  },
  {
   "cell_type": "code",
   "execution_count": 52,
   "metadata": {},
   "outputs": [
    {
     "data": {
      "image/png": "[encoded data removed]",
      "text/plain": [
       "<Figure size 432x288 with 1 Axes>"
      ]
     },
     "metadata": {},
     "output_type": "display_data"
    }
   ],
   "source": [
    "# Plot Monthly Premium Auto as a histogram\n",
    "df['Monthly Premium Auto'].hist(bins = 20)\n",
    "plt.xlabel('Monthly Premium Auto')\n",
    "plt.ylabel('Frequency')\n",
    "plt.show()"
   ]
  },
  {
   "cell_type": "code",
   "execution_count": 53,
   "metadata": {},
   "outputs": [
    {
     "data": {
      "text/plain": [
       "count    9134.000000\n",
       "mean       93.219291\n",
       "std        34.407967\n",
       "min        61.000000\n",
       "25%        68.000000\n",
       "50%        83.000000\n",
       "75%       109.000000\n",
       "max       298.000000\n",
       "Name: Monthly Premium Auto, dtype: float64"
      ]
     },
     "execution_count": 53,
     "metadata": {},
     "output_type": "execute_result"
    }
   ],
   "source": [
    "df['Monthly Premium Auto'].describe()"
   ]
  },
  {
   "cell_type": "code",
   "execution_count": 54,
   "metadata": {},
   "outputs": [
    {
     "data": {
      "image/png": "[encoded data removed]",
      "text/plain": [
       "<Figure size 432x288 with 1 Axes>"
      ]
     },
     "metadata": {},
     "output_type": "display_data"
    },
    {
     "name": "stdout",
     "output_type": "stream",
     "text": [
      "count    9134.000000\n",
      "mean      434.088794\n",
      "std       290.500092\n",
      "min         0.099007\n",
      "25%       272.258244\n",
      "50%       383.945434\n",
      "75%       547.514839\n",
      "max      2893.239678\n",
      "Name: Total Claim Amount, dtype: float64\n"
     ]
    }
   ],
   "source": [
    "# Plot Total Claim Amount as histogram\n",
    "df['Total Claim Amount'].hist(bins = 20)\n",
    "plt.xlabel('Total Claim Amount')\n",
    "plt.ylabel('Frequency')\n",
    "plt.show()\n",
    "print(df['Total Claim Amount'].describe())"
   ]
  },
  {
   "cell_type": "markdown",
   "metadata": {},
   "source": [
    "CLV is one the most import factor for business purpose. We will try to model it as well see which factors are important for CLV such that is there any effect of gender or education on CLV"
   ]
  },
  {
   "cell_type": "code",
   "execution_count": 71,
   "metadata": {},
   "outputs": [
    {
     "name": "stdout",
     "output_type": "stream",
     "text": [
      "          Customer Lifetime Value  Total Claim Amount\n",
      "Coverage                                             \n",
      "Basic                 6142.352363          246.916076\n",
      "Extended              7427.222824          296.084575\n",
      "Premium               8370.764826          396.409536\n"
     ]
    },
    {
     "data": {
      "text/plain": [
       "<matplotlib.axes._subplots.AxesSubplot at 0x219e08362e8>"
      ]
     },
     "execution_count": 71,
     "metadata": {},
     "output_type": "execute_result"
    },
    {
     "data": {
      "image/png": "[encoded data removed]",
      "text/plain": [
       "<Figure size 432x288 with 1 Axes>"
      ]
     },
     "metadata": {},
     "output_type": "display_data"
    }
   ],
   "source": [
    "df.groupby('Coverage')['Customer Lifetime Value', 'Total Claim Amount'].mean()\n",
    "std = df.groupby('Coverage')['Customer Lifetime Value', 'Total Claim Amount'].std()\n",
    "print(std)\n",
    "df.groupby('Coverage')['Customer Lifetime Value', 'Total Claim Amount'].mean().plot(kind = 'bar', yerr= std)"
   ]
  },
  {
   "cell_type": "code",
   "execution_count": 88,
   "metadata": {},
   "outputs": [
    {
     "data": {
      "text/plain": [
       "Ttest_indResult(statistic=-9.750190315450043, pvalue=3.0071536268149477e-22)"
      ]
     },
     "execution_count": 88,
     "metadata": {},
     "output_type": "execute_result"
    }
   ],
   "source": [
    "cat1 = df['Customer Lifetime Value'][df['Coverage']=='Basic']\n",
    "cat2 = df['Customer Lifetime Value'][df['Coverage']=='Extended']\n",
    "cat3 = df['Customer Lifetime Value'][df['Coverage']=='Premium']\n",
    "ttest_ind(cat1, cat2, equal_var = False)"
   ]
  },
  {
   "cell_type": "code",
   "execution_count": 91,
   "metadata": {},
   "outputs": [
    {
     "data": {
      "text/plain": [
       "KruskalResult(statistic=502.4996090762843, pvalue=7.648852917746348e-110)"
      ]
     },
     "execution_count": 91,
     "metadata": {},
     "output_type": "execute_result"
    }
   ],
   "source": [
    "from scipy import stats\n",
    "# as the distribution of CLV in not normal, let's employ kruskal-walis test that don't assume any specific distribution for the dataset\n",
    "stats.kruskal(cat1, cat2, cat3)"
   ]
  },
  {
   "cell_type": "code",
   "execution_count": 96,
   "metadata": {
    "collapsed": true
   },
   "outputs": [],
   "source": [
    "from statsmodels.formula.api import ols\n",
    "df['CLV'] = df['Customer Lifetime Value']"
   ]
  },
  {
   "cell_type": "code",
   "execution_count": 100,
   "metadata": {},
   "outputs": [
    {
     "name": "stdout",
     "output_type": "stream",
     "text": [
      "                            OLS Regression Results                            \n",
      "==============================================================================\n",
      "Dep. Variable:                    CLV   R-squared:                       0.028\n",
      "Model:                            OLS   Adj. R-squared:                  0.028\n",
      "Method:                 Least Squares   F-statistic:                     133.7\n",
      "Date:                Tue, 07 Aug 2018   Prob (F-statistic):           6.02e-58\n",
      "Time:                        12:08:22   Log-Likelihood:                -93528.\n",
      "No. Observations:                9134   AIC:                         1.871e+05\n",
      "Df Residuals:                    9131   BIC:                         1.871e+05\n",
      "Df Model:                           2                                         \n",
      "Covariance Type:            nonrobust                                         \n",
      "========================================================================================\n",
      "                           coef    std err          t      P>|t|      [0.025      0.975]\n",
      "----------------------------------------------------------------------------------------\n",
      "Intercept             7190.7064     90.771     79.218      0.000    7012.774    7368.639\n",
      "Coverage[T.Extended]  1598.9712    158.021     10.119      0.000    1289.214    1908.729\n",
      "Coverage[T.Premium]   3704.8967    252.816     14.655      0.000    3209.321    4200.472\n",
      "==============================================================================\n",
      "Omnibus:                     6066.447   Durbin-Watson:                   2.007\n",
      "Prob(Omnibus):                  0.000   Jarque-Bera (JB):            86841.412\n",
      "Skew:                           3.039   Prob(JB):                         0.00\n",
      "Kurtosis:                      16.829   Cond. No.                         3.87\n",
      "==============================================================================\n",
      "\n",
      "Warnings:\n",
      "[1] Standard Errors assume that the covariance matrix of the errors is correctly specified.\n"
     ]
    }
   ],
   "source": [
    "model_coverage = ols(\" CLV ~ Coverage\", df).fit()\n",
    "print(model_coverage.summary()) "
   ]
  },
  {
   "cell_type": "code",
   "execution_count": 102,
   "metadata": {},
   "outputs": [
    {
     "name": "stdout",
     "output_type": "stream",
     "text": [
      "                            OLS Regression Results                            \n",
      "==============================================================================\n",
      "Dep. Variable:                    CLV   R-squared:                       0.002\n",
      "Model:                            OLS   Adj. R-squared:                  0.001\n",
      "Method:                 Least Squares   F-statistic:                     3.810\n",
      "Date:                Tue, 07 Aug 2018   Prob (F-statistic):            0.00425\n",
      "Time:                        12:10:34   Log-Likelihood:                -93652.\n",
      "No. Observations:                9134   AIC:                         1.873e+05\n",
      "Df Residuals:                    9129   BIC:                         1.873e+05\n",
      "Df Model:                           4                                         \n",
      "Covariance Type:            nonrobust                                         \n",
      "=====================================================================================================\n",
      "                                        coef    std err          t      P>|t|      [0.025      0.975]\n",
      "-----------------------------------------------------------------------------------------------------\n",
      "Intercept                          7847.8894    341.211     23.000      0.000    7179.039    8516.740\n",
      "EmploymentStatus[T.Employed]        371.2284    353.129      1.051      0.293    -320.984    1063.441\n",
      "EmploymentStatus[T.Medical Leave]  -206.0669    474.946     -0.434      0.664   -1137.067     724.933\n",
      "EmploymentStatus[T.Retired]        -360.0242    532.571     -0.676      0.499   -1403.982     683.933\n",
      "EmploymentStatus[T.Unemployed]     -211.5696    369.832     -0.572      0.567    -936.523     513.384\n",
      "==============================================================================\n",
      "Omnibus:                     6053.314   Durbin-Watson:                   2.002\n",
      "Prob(Omnibus):                  0.000   Jarque-Bera (JB):            86492.419\n",
      "Skew:                           3.030   Prob(JB):                         0.00\n",
      "Kurtosis:                      16.804   Cond. No.                         13.7\n",
      "==============================================================================\n",
      "\n",
      "Warnings:\n",
      "[1] Standard Errors assume that the covariance matrix of the errors is correctly specified.\n"
     ]
    },
    {
     "data": {
      "image/png": "[encoded data removed]",
      "text/plain": [
       "<Figure size 432x288 with 1 Axes>"
      ]
     },
     "metadata": {},
     "output_type": "display_data"
    }
   ],
   "source": [
    "df.groupby('EmploymentStatus')['Customer Lifetime Value', 'Total Claim Amount'].mean().plot(kind = 'bar')\n",
    "model_emp_status = ols(\" CLV ~ EmploymentStatus \", df).fit()\n",
    "print(model_emp_status.summary()) "
   ]
  },
  {
   "cell_type": "code",
   "execution_count": 103,
   "metadata": {},
   "outputs": [
    {
     "name": "stdout",
     "output_type": "stream",
     "text": [
      "                            OLS Regression Results                            \n",
      "==============================================================================\n",
      "Dep. Variable:                    CLV   R-squared:                       0.000\n",
      "Model:                            OLS   Adj. R-squared:                  0.000\n",
      "Method:                 Least Squares   F-statistic:                     1.692\n",
      "Date:                Tue, 07 Aug 2018   Prob (F-statistic):              0.193\n",
      "Time:                        12:11:28   Log-Likelihood:                -93659.\n",
      "No. Observations:                9134   AIC:                         1.873e+05\n",
      "Df Residuals:                    9132   BIC:                         1.873e+05\n",
      "Df Model:                           1                                         \n",
      "Covariance Type:            nonrobust                                         \n",
      "===============================================================================\n",
      "                  coef    std err          t      P>|t|      [0.025      0.975]\n",
      "-------------------------------------------------------------------------------\n",
      "Intercept    8096.6024    100.670     80.427      0.000    7899.266    8293.939\n",
      "Gender[T.M]  -187.0509    143.809     -1.301      0.193    -468.949      94.848\n",
      "==============================================================================\n",
      "Omnibus:                     6057.150   Durbin-Watson:                   2.003\n",
      "Prob(Omnibus):                  0.000   Jarque-Bera (JB):            86756.298\n",
      "Skew:                           3.032   Prob(JB):                         0.00\n",
      "Kurtosis:                      16.827   Cond. No.                         2.60\n",
      "==============================================================================\n",
      "\n",
      "Warnings:\n",
      "[1] Standard Errors assume that the covariance matrix of the errors is correctly specified.\n"
     ]
    },
    {
     "data": {
      "image/png": "[encoded data removed]",
      "text/plain": [
       "<Figure size 432x288 with 1 Axes>"
      ]
     },
     "metadata": {},
     "output_type": "display_data"
    }
   ],
   "source": [
    "df.groupby('Gender')['Customer Lifetime Value', 'Total Claim Amount'].mean().plot(kind = 'bar')\n",
    "model_gender = ols(\" CLV ~ Gender \", df).fit()\n",
    "print(model_gender.summary()) "
   ]
  },
  {
   "cell_type": "code",
   "execution_count": 104,
   "metadata": {},
   "outputs": [
    {
     "name": "stdout",
     "output_type": "stream",
     "text": [
      "                            OLS Regression Results                            \n",
      "==============================================================================\n",
      "Dep. Variable:                    CLV   R-squared:                       0.001\n",
      "Model:                            OLS   Adj. R-squared:                  0.001\n",
      "Method:                 Least Squares   F-statistic:                     2.423\n",
      "Date:                Tue, 07 Aug 2018   Prob (F-statistic):             0.0460\n",
      "Time:                        12:13:26   Log-Likelihood:                -93655.\n",
      "No. Observations:                9134   AIC:                         1.873e+05\n",
      "Df Residuals:                    9129   BIC:                         1.874e+05\n",
      "Df Model:                           4                                         \n",
      "Covariance Type:            nonrobust                                         \n",
      "=====================================================================================================\n",
      "                                        coef    std err          t      P>|t|      [0.025      0.975]\n",
      "-----------------------------------------------------------------------------------------------------\n",
      "Intercept                          7872.6604    131.031     60.082      0.000    7615.810    8129.511\n",
      "Education[T.College]                -21.5958    186.460     -0.116      0.908    -387.099     343.908\n",
      "Education[T.Doctor]                -352.3156    393.859     -0.895      0.371   -1124.367     419.736\n",
      "Education[T.High School or Below]   424.0486    187.519      2.261      0.024      56.470     791.628\n",
      "Education[T.Master]                 370.8243    284.325      1.304      0.192    -186.517     928.166\n",
      "==============================================================================\n",
      "Omnibus:                     6053.178   Durbin-Watson:                   2.004\n",
      "Prob(Omnibus):                  0.000   Jarque-Bera (JB):            86493.475\n",
      "Skew:                           3.030   Prob(JB):                         0.00\n",
      "Kurtosis:                      16.804   Cond. No.                         6.29\n",
      "==============================================================================\n",
      "\n",
      "Warnings:\n",
      "[1] Standard Errors assume that the covariance matrix of the errors is correctly specified.\n"
     ]
    },
    {
     "data": {
      "image/png": "[encoded data removed]",
      "text/plain": [
       "<Figure size 432x288 with 1 Axes>"
      ]
     },
     "metadata": {},
     "output_type": "display_data"
    }
   ],
   "source": [
    "df.groupby('Education')['Customer Lifetime Valgroups = [y[idx == i] for i, l in enumerate(label)]ue', 'Total Claim Amount'].mean().plot(kind = 'bar')\n",
    "model_education = ols(\" CLV ~ Education \", df).fit()\n",
    "print(model_education.summary()) "
   ]
  },
  {
   "cell_type": "code",
   "execution_count": 109,
   "metadata": {},
   "outputs": [
    {
     "data": {
      "text/plain": [
       "KruskalResult(statistic=12.234061758188824, pvalue=0.015693004298603028)"
      ]
     },
     "execution_count": 109,
     "metadata": {},
     "output_type": "execute_result"
    }
   ],
   "source": [
    "import numpy as np\n",
    "label, idx = np.unique(df['Education'], return_inverse=True)\n",
    "groups = [df['CLV'][idx == i] for i, l in enumerate(label)]\n",
    "stats.kruskal(*groups)"
   ]
  },
  {
   "cell_type": "code",
   "execution_count": 110,
   "metadata": {},
   "outputs": [
    {
     "data": {
      "text/plain": [
       "KruskalResult(statistic=20.895798766808223, pvalue=2.9009146434700455e-05)"
      ]
     },
     "execution_count": 110,
     "metadata": {},
     "output_type": "execute_result"
    }
   ],
   "source": [
    "import numpy as np\n",
    "label, idx = np.unique(df['Marital Status'], return_inverse=True)\n",
    "groups = [df['CLV'][idx == i] for i, l in enumerate(label)]\n",
    "stats.kruskal(*groups)"
   ]
  },
  {
   "cell_type": "code",
   "execution_count": 111,
   "metadata": {},
   "outputs": [
    {
     "data": {
      "text/plain": [
       "KruskalResult(statistic=2.4638212999332567, pvalue=0.29173464205664124)"
      ]
     },
     "execution_count": 111,
     "metadata": {},
     "output_type": "execute_result"
    }
   ],
   "source": [
    "label, idx = np.unique(df['Location Code'], return_inverse=True)\n",
    "groups = [df['CLV'][idx == i] for i, l in enumerate(label)]\n",
    "stats.kruskal(*groups)"
   ]
  },
  {
   "cell_type": "code",
   "execution_count": 112,
   "metadata": {},
   "outputs": [
    {
     "data": {
      "text/plain": [
       "<matplotlib.axes._subplots.AxesSubplot at 0x219e0627dd8>"
      ]
     },
     "execution_count": 112,
     "metadata": {},
     "output_type": "execute_result"
    },
    {
     "data": {
      "image/png": "[encoded data removed]",
      "text/plain": [
       "<Figure size 432x288 with 1 Axes>"
      ]
     },
     "metadata": {},
     "output_type": "display_data"
    }
   ],
   "source": [
    "df.groupby('Location Code')['Customer Lifetime Value', 'Total Claim Amount'].mean().plot(kind = 'bar')"
   ]
  },
  {
   "cell_type": "code",
   "execution_count": 114,
   "metadata": {},
   "outputs": [
    {
     "data": {
      "text/plain": [
       "KruskalResult(statistic=5.07206958384011, pvalue=0.2799823235878242)"
      ]
     },
     "execution_count": 114,
     "metadata": {},
     "output_type": "execute_result"
    },
    {
     "data": {
      "image/png": "[encoded data removed]",
      "text/plain": [
       "<Figure size 432x288 with 1 Axes>"
      ]
     },
     "metadata": {},
     "output_type": "display_data"
    }
   ],
   "source": [
    "df.groupby('State')['Customer Lifetime Value', 'Total Claim Amount'].mean().plot(kind = 'bar')\n",
    "label, idx = np.unique(df['State'], return_inverse=True)\n",
    "groups = [df['CLV'][idx == i] for i, l in enumerate(label)]\n",
    "stats.kruskal(*groups)"
   ]
  },
  {
   "cell_type": "code",
   "execution_count": 115,
   "metadata": {},
   "outputs": [
    {
     "data": {
      "text/plain": [
       "KruskalResult(statistic=4.491751501229693, pvalue=0.2130272157209903)"
      ]
     },
     "execution_count": 115,
     "metadata": {},
     "output_type": "execute_result"
    },
    {
     "data": {
      "image/png": "[encoded data removed]",
      "text/plain": [
       "<Figure size 432x288 with 1 Axes>"
      ]
     },
     "metadata": {},
     "output_type": "display_data"
    }
   ],
   "source": [
    "df.groupby('Sales Channel')['Customer Lifetime Value', 'Total Claim Amount'].mean().plot(kind = 'bar')\n",
    "label, idx = np.unique(df['Sales Channel'], return_inverse=True)\n",
    "groups = [df['CLV'][idx == i] for i, l in enumerate(label)]\n",
    "stats.kruskal(*groups)"
   ]
  },
  {
   "cell_type": "code",
   "execution_count": 155,
   "metadata": {},
   "outputs": [
    {
     "data": {
      "text/plain": [
       "KruskalResult(statistic=4.6074986354931795, pvalue=0.0998836452694168)"
      ]
     },
     "execution_count": 155,
     "metadata": {},
     "output_type": "execute_result"
    },
    {
     "data": {
      "image/png": "[encoded data removed]",
      "text/plain": [
       "<Figure size 432x288 with 1 Axes>"
      ]
     },
     "metadata": {},
     "output_type": "display_data"
    }
   ],
   "source": [
    "df.groupby('Policy Type')['Customer Lifetime Value', 'Total Claim Amount'].mean().plot(kind = 'bar')\n",
    "label, idx = np.unique(df['Policy Type'], return_inverse=True)\n",
    "groups = [df['CLV'][idx == i] for i, l in enumerate(label)]\n",
    "stats.kruskal(*groups)"
   ]
  },
  {
   "cell_type": "code",
   "execution_count": 153,
   "metadata": {},
   "outputs": [
    {
     "data": {
      "text/plain": [
       "<matplotlib.axes._subplots.AxesSubplot at 0x219e4cb16d8>"
      ]
     },
     "execution_count": 153,
     "metadata": {},
     "output_type": "execute_result"
    },
    {
     "data": {
      "image/png": "[encoded data removed]",
      "text/plain": [
       "<Figure size 432x288 with 1 Axes>"
      ]
     },
     "metadata": {},
     "output_type": "display_data"
    }
   ],
   "source": [
    "temp = df.groupby(['Sales Channel', 'Response'])['Response'].count()/df.groupby(['Sales Channel'])['Response'].count()\n",
    "temp.unstack(level=1).plot(kind = 'bar')"
   ]
  },
  {
   "cell_type": "code",
   "execution_count": 182,
   "metadata": {},
   "outputs": [
    {
     "name": "stdout",
     "output_type": "stream",
     "text": [
      "State       Policy Type   \n",
      "Arizona     Corporate Auto    0.198890\n",
      "            Personal Auto     0.757466\n",
      "            Special Auto      0.043645\n",
      "California  Corporate Auto    0.232563\n",
      "            Personal Auto     0.731493\n",
      "            Special Auto      0.035944\n",
      "Nevada      Corporate Auto    0.211923\n",
      "            Personal Auto     0.748877\n",
      "            Special Auto      0.039200\n",
      "Oregon      Corporate Auto    0.213058\n",
      "            Personal Auto     0.741176\n",
      "            Special Auto      0.045766\n",
      "Washington  Corporate Auto    0.210954\n",
      "            Personal Auto     0.757381\n",
      "            Special Auto      0.031665\n",
      "Name: Number of Policies, dtype: float64\n",
      "Policy Type\n",
      "Corporate Auto    0.216772\n",
      "Personal Auto     0.743070\n",
      "Special Auto      0.040158\n",
      "Name: Number of Policies, dtype: float64\n"
     ]
    }
   ],
   "source": [
    "print(df.groupby(['State', 'Policy Type'])['Number of Policies']temp = df.groupby(['Sales Channel', 'Response'])['Response'].count().sum() / df.groupby('State')['Number of Policies'].sum())\n",
    "print(df.groupby('Policy Type')['Number of Policies'].sum() / df['Number of Policies'].sum())"
   ]
  },
  {
   "cell_type": "code",
   "execution_count": 190,
   "metadata": {},
   "outputs": [
    {
     "data": {
      "text/html": [
       "<div>\n",
       "<style scoped>\n",
       "    .dataframe tbody tr th:only-of-type {\n",
       "        vertical-align: middle;\n",
       "    }\n",
       "\n",
       "    .dataframe tbody tr th {\n",
       "        vertical-align: top;\n",
       "    }\n",
       "\n",
       "    .dataframe thead th {\n",
       "        text-align: right;\n",
       "    }\n",
       "</style>\n",
       "<table border=\"1\" class=\"dataframe\">\n",
       "  <thead>\n",
       "    <tr style=\"text-align: right;\">\n",
       "      <th></th>\n",
       "      <th>Customer Lifetime Value</th>\n",
       "      <th>Total Claim Amount</th>\n",
       "      <th>Monthly Premium Auto</th>\n",
       "    </tr>\n",
       "    <tr>\n",
       "      <th>Sales Channel</th>\n",
       "      <th></th>\n",
       "      <th></th>\n",
       "      <th></th>\n",
       "    </tr>\n",
       "  </thead>\n",
       "  <tbody>\n",
       "    <tr>\n",
       "      <th>Agent</th>\n",
       "      <td>7957.709353</td>\n",
       "      <td>438.434673</td>\n",
       "      <td>93.679034</td>\n",
       "    </tr>\n",
       "    <tr>\n",
       "      <th>Branch</th>\n",
       "      <td>8119.711861</td>\n",
       "      <td>432.866800</td>\n",
       "      <td>93.306973</td>\n",
       "    </tr>\n",
       "    <tr>\n",
       "      <th>Call Center</th>\n",
       "      <td>8100.085753</td>\n",
       "      <td>428.124624</td>\n",
       "      <td>92.482153</td>\n",
       "    </tr>\n",
       "    <tr>\n",
       "      <th>Web</th>\n",
       "      <td>7779.788057</td>\n",
       "      <td>432.996719</td>\n",
       "      <td>92.824906</td>\n",
       "    </tr>\n",
       "  </tbody>\n",
       "</table>\n",
       "</div>"
      ],
      "text/plain": [
       "               Customer Lifetime Value  Total Claim Amount  \\\n",
       "Sales Channel                                                \n",
       "Agent                      7957.709353          438.434673   \n",
       "Branch                     8119.711861          432.866800   \n",
       "Call Center                8100.085753          428.124624   \n",
       "Web                        7779.788057          432.996719   \n",
       "\n",
       "               Monthly Premium Auto  \n",
       "Sales Channel                        \n",
       "Agent                     93.679034  \n",
       "Branch                    93.306973  \n",
       "Call Center               92.482153  \n",
       "Web                       92.824906  "
      ]
     },
     "execution_count": 190,
     "metadata": {},
     "output_type": "execute_result"
    }
   ],
   "source": [
    "temp = df.groupby(['State', 'Sales Channel'])['CLV'].median()\n",
    "df.groupby('Sales Channel')['Customer Lifetime Value', 'Total Claim Amount', 'Monthly Premium Auto'].mean()"
   ]
  }
 ],
 "metadata": {
  "kernelspec": {
   "display_name": "Python 2",
   "language": "python",
   "name": "python2"
  },
  "language_info": {
   "codemirror_mode": {
    "name": "ipython",
    "version": 3
   },
   "file_extension": ".py",
   "mimetype": "text/x-python",
   "name": "python",
   "nbconvert_exporter": "python",
   "pygments_lexer": "ipython3",
   "version": "3.6.5"
  }
 },
 "nbformat": 4,
 "nbformat_minor": 2
}
